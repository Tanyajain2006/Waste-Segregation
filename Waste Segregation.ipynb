{
 "cells": [
  {
   "cell_type": "code",
   "execution_count": 1,
   "metadata": {},
   "outputs": [],
   "source": [
    "# Installing neccessary library\n",
    "\n",
    "# pip install tensorflow"
   ]
  },
  {
   "cell_type": "code",
   "execution_count": 2,
   "metadata": {},
   "outputs": [],
   "source": [
    "# Importing necessary modules\n",
    "import tensorflow as tf\n",
    "from tensorflow.keras.models import Sequential\n",
    "from tensorflow.keras.layers import Conv2D, MaxPooling2D, Flatten, Dense\n",
    "from tensorflow.keras.preprocessing.image import ImageDataGenerator\n"
   ]
  },
  {
   "cell_type": "code",
   "execution_count": 3,
   "metadata": {},
   "outputs": [],
   "source": [
    "# Setting ub ImageDataGenerator\n",
    "train_data = ImageDataGenerator(\n",
    "    rescale=1./255,\n",
    "    shear_range=0.2,\n",
    "    zoom_range=0.2,\n",
    "    horizontal_flip=True\n",
    ")"
   ]
  },
  {
   "cell_type": "code",
   "execution_count": 4,
   "metadata": {},
   "outputs": [],
   "source": [
    "test_data = ImageDataGenerator(\n",
    "    rescale = 1./255\n",
    ")"
   ]
  },
  {
   "cell_type": "code",
   "execution_count": 5,
   "metadata": {},
   "outputs": [],
   "source": [
    "# Determining batch size\n",
    "batch_size = 32"
   ]
  },
  {
   "cell_type": "code",
   "execution_count": 6,
   "metadata": {},
   "outputs": [
    {
     "name": "stdout",
     "output_type": "stream",
     "text": [
      "Found 22564 images belonging to 2 classes.\n"
     ]
    }
   ],
   "source": [
    "# Loading Training Data\n",
    "train = train_data.flow_from_directory(\n",
    "    \"C:/Users/Admin/Desktop/AIML Project/DataSet/TRAIN\",\n",
    "    target_size = (200, 200),\n",
    "    batch_size = batch_size,\n",
    "    class_mode = 'categorical'\n",
    ")"
   ]
  },
  {
   "cell_type": "code",
   "execution_count": 7,
   "metadata": {},
   "outputs": [
    {
     "name": "stdout",
     "output_type": "stream",
     "text": [
      "Found 2513 images belonging to 2 classes.\n"
     ]
    }
   ],
   "source": [
    "# Loading testing data\n",
    "test = test_data.flow_from_directory(\n",
    "    \"C:/Users/Admin/Desktop/AIML Project/DataSet/TEST\",\n",
    "    target_size = (200, 200),\n",
    "    batch_size = batch_size,\n",
    "    class_mode = 'categorical'\n",
    ")"
   ]
  },
  {
   "cell_type": "code",
   "execution_count": 8,
   "metadata": {},
   "outputs": [
    {
     "name": "stderr",
     "output_type": "stream",
     "text": [
      "c:\\Users\\Admin\\AppData\\Local\\Programs\\Python\\Python310\\lib\\site-packages\\keras\\src\\layers\\convolutional\\base_conv.py:107: UserWarning: Do not pass an `input_shape`/`input_dim` argument to a layer. When using Sequential models, prefer using an `Input(shape)` object as the first layer in the model instead.\n",
      "  super().__init__(activity_regularizer=activity_regularizer, **kwargs)\n"
     ]
    }
   ],
   "source": [
    "# Building a CNN Model\n",
    "model = Sequential([\n",
    "    Conv2D(64, (2, 2), activation = 'relu', input_shape = (200, 200, 3)),\n",
    "    MaxPooling2D((2, 2)),\n",
    "    Flatten(),\n",
    "    Dense(256, activation = 'relu'),\n",
    "    Dense(train.num_classes, activation = 'softmax')\n",
    "])"
   ]
  },
  {
   "cell_type": "code",
   "execution_count": 9,
   "metadata": {},
   "outputs": [],
   "source": [
    "# Compiling the Model\n",
    "model.compile(optimizer = 'adam', \n",
    "              loss = 'categorical_crossentropy',\n",
    "              metrics = ['accuracy']\n",
    ")"
   ]
  },
  {
   "cell_type": "code",
   "execution_count": 10,
   "metadata": {},
   "outputs": [
    {
     "name": "stdout",
     "output_type": "stream",
     "text": [
      "Epoch 1/10\n"
     ]
    },
    {
     "name": "stderr",
     "output_type": "stream",
     "text": [
      "c:\\Users\\Admin\\AppData\\Local\\Programs\\Python\\Python310\\lib\\site-packages\\keras\\src\\trainers\\data_adapters\\py_dataset_adapter.py:121: UserWarning: Your `PyDataset` class should call `super().__init__(**kwargs)` in its constructor. `**kwargs` can include `workers`, `use_multiprocessing`, `max_queue_size`. Do not pass these arguments to `fit()`, as they will be ignored.\n",
      "  self._warn_if_super_not_called()\n"
     ]
    },
    {
     "name": "stdout",
     "output_type": "stream",
     "text": [
      "\u001b[1m706/706\u001b[0m \u001b[32m━━━━━━━━━━━━━━━━━━━━\u001b[0m\u001b[37m\u001b[0m \u001b[1m3790s\u001b[0m 5s/step - accuracy: 0.7386 - loss: 4.4379 - val_accuracy: 0.8548 - val_loss: 0.4163\n",
      "Epoch 2/10\n",
      "\u001b[1m706/706\u001b[0m \u001b[32m━━━━━━━━━━━━━━━━━━━━\u001b[0m\u001b[37m\u001b[0m \u001b[1m2344s\u001b[0m 3s/step - accuracy: 0.8284 - loss: 0.4080 - val_accuracy: 0.8540 - val_loss: 0.3724\n",
      "Epoch 3/10\n",
      "\u001b[1m706/706\u001b[0m \u001b[32m━━━━━━━━━━━━━━━━━━━━\u001b[0m\u001b[37m\u001b[0m \u001b[1m2348s\u001b[0m 3s/step - accuracy: 0.8325 - loss: 0.3926 - val_accuracy: 0.8528 - val_loss: 0.3664\n",
      "Epoch 4/10\n",
      "\u001b[1m706/706\u001b[0m \u001b[32m━━━━━━━━━━━━━━━━━━━━\u001b[0m\u001b[37m\u001b[0m \u001b[1m3579s\u001b[0m 5s/step - accuracy: 0.8343 - loss: 0.3853 - val_accuracy: 0.8567 - val_loss: 0.3826\n",
      "Epoch 5/10\n",
      "\u001b[1m706/706\u001b[0m \u001b[32m━━━━━━━━━━━━━━━━━━━━\u001b[0m\u001b[37m\u001b[0m \u001b[1m2855s\u001b[0m 4s/step - accuracy: 0.8387 - loss: 0.3828 - val_accuracy: 0.8571 - val_loss: 0.3515\n",
      "Epoch 6/10\n",
      "\u001b[1m706/706\u001b[0m \u001b[32m━━━━━━━━━━━━━━━━━━━━\u001b[0m\u001b[37m\u001b[0m \u001b[1m3236s\u001b[0m 5s/step - accuracy: 0.8456 - loss: 0.3656 - val_accuracy: 0.8317 - val_loss: 0.4610\n",
      "Epoch 7/10\n",
      "\u001b[1m706/706\u001b[0m \u001b[32m━━━━━━━━━━━━━━━━━━━━\u001b[0m\u001b[37m\u001b[0m \u001b[1m2161s\u001b[0m 3s/step - accuracy: 0.8477 - loss: 0.3567 - val_accuracy: 0.8639 - val_loss: 0.3680\n",
      "Epoch 8/10\n",
      "\u001b[1m706/706\u001b[0m \u001b[32m━━━━━━━━━━━━━━━━━━━━\u001b[0m\u001b[37m\u001b[0m \u001b[1m2018s\u001b[0m 3s/step - accuracy: 0.8575 - loss: 0.3367 - val_accuracy: 0.8850 - val_loss: 0.3539\n",
      "Epoch 9/10\n",
      "\u001b[1m706/706\u001b[0m \u001b[32m━━━━━━━━━━━━━━━━━━━━\u001b[0m\u001b[37m\u001b[0m \u001b[1m14194s\u001b[0m 20s/step - accuracy: 0.8530 - loss: 0.3699 - val_accuracy: 0.8747 - val_loss: 0.3494\n",
      "Epoch 10/10\n",
      "\u001b[1m706/706\u001b[0m \u001b[32m━━━━━━━━━━━━━━━━━━━━\u001b[0m\u001b[37m\u001b[0m \u001b[1m2068s\u001b[0m 3s/step - accuracy: 0.8628 - loss: 0.3397 - val_accuracy: 0.8778 - val_loss: 0.3268\n"
     ]
    }
   ],
   "source": [
    "# Training the model\n",
    "history = model.fit(\n",
    "    train,\n",
    "    epochs = 10,\n",
    "    validation_data = test\n",
    ")"
   ]
  },
  {
   "cell_type": "code",
   "execution_count": 11,
   "metadata": {},
   "outputs": [
    {
     "name": "stdout",
     "output_type": "stream",
     "text": [
      "\u001b[1m78/78\u001b[0m \u001b[32m━━━━━━━━━━━━━━━━━━━━\u001b[0m\u001b[37m\u001b[0m \u001b[1m24s\u001b[0m 311ms/step - accuracy: 0.8807 - loss: 0.3127\n",
      "Test Loss: 0.32638850808143616\n",
      "Test accuracy: 0.8786057829856873\n"
     ]
    }
   ],
   "source": [
    "# Evaluate the model\n",
    "test_loss, test_accuracy = model.evaluate(test, steps = test.samples // batch_size)\n",
    "print(\"Test Loss:\", test_loss)\n",
    "print(\"Test accuracy:\", test_accuracy)"
   ]
  },
  {
   "cell_type": "code",
   "execution_count": 12,
   "metadata": {},
   "outputs": [],
   "source": [
    "# Save the model\n",
    "model.save('waste_segregation_model.keras')"
   ]
  },
  {
   "cell_type": "code",
   "execution_count": 13,
   "metadata": {},
   "outputs": [],
   "source": [
    "# Classifying new images"
   ]
  },
  {
   "cell_type": "code",
   "execution_count": 14,
   "metadata": {},
   "outputs": [],
   "source": [
    "# importing necessary libraries\n",
    "import numpy as np\n",
    "from tensorflow.keras.preprocessing import image"
   ]
  },
  {
   "cell_type": "code",
   "execution_count": 20,
   "metadata": {},
   "outputs": [],
   "source": [
    "def classify(img_path):\n",
    "    img = image.load_img(\n",
    "        img_path,\n",
    "        target_size = (200, 200)\n",
    "    )\n",
    "    array = image.img_to_array(img) / 255.0\n",
    "    array = np.expand_dims(array, axis=0)\n",
    "    prediction = model.predict(array)\n",
    "\n",
    "    if prediction[0][0] >= 0.5:\n",
    "        return 'recyclable'\n",
    "    else:\n",
    "        return 'organic'"
   ]
  },
  {
   "cell_type": "code",
   "execution_count": 21,
   "metadata": {},
   "outputs": [
    {
     "name": "stdout",
     "output_type": "stream",
     "text": [
      "\u001b[1m1/1\u001b[0m \u001b[32m━━━━━━━━━━━━━━━━━━━━\u001b[0m\u001b[37m\u001b[0m \u001b[1m1s\u001b[0m 785ms/step\n",
      "Image: C:/Users/Admin/Desktop/AIML Project/Classifying images/trash1.jpg, Category: Recyclable Waste\n",
      "\u001b[1m1/1\u001b[0m \u001b[32m━━━━━━━━━━━━━━━━━━━━\u001b[0m\u001b[37m\u001b[0m \u001b[1m0s\u001b[0m 72ms/step\n",
      "Image: C:/Users/Admin/Desktop/AIML Project/Classifying images/trash2.jpg, Category: Organic Waste\n",
      "\u001b[1m1/1\u001b[0m \u001b[32m━━━━━━━━━━━━━━━━━━━━\u001b[0m\u001b[37m\u001b[0m \u001b[1m0s\u001b[0m 86ms/step\n",
      "Image: C:/Users/Admin/Desktop/AIML Project/Classifying images/trash3.jpg, Category: Organic Waste\n",
      "\u001b[1m1/1\u001b[0m \u001b[32m━━━━━━━━━━━━━━━━━━━━\u001b[0m\u001b[37m\u001b[0m \u001b[1m0s\u001b[0m 70ms/step\n",
      "Image: C:/Users/Admin/Desktop/AIML Project/Classifying images/trash4.jpg, Category: Recyclable Waste\n",
      "\u001b[1m1/1\u001b[0m \u001b[32m━━━━━━━━━━━━━━━━━━━━\u001b[0m\u001b[37m\u001b[0m \u001b[1m0s\u001b[0m 67ms/step\n",
      "Image: C:/Users/Admin/Desktop/AIML Project/Classifying images/trash60.jpg, Category: Recyclable Waste\n"
     ]
    }
   ],
   "source": [
    "# Test with specific image paths\n",
    "new_image = [\n",
    "    \"C:/Users/Admin/Desktop/AIML Project/Classifying images/trash1.jpg\",\n",
    "    \"C:/Users/Admin/Desktop/AIML Project/Classifying images/trash2.jpg\",\n",
    "    \"C:/Users/Admin/Desktop/AIML Project/Classifying images/trash3.jpg\",\n",
    "    \"C:/Users/Admin/Desktop/AIML Project/Classifying images/trash4.jpg\",\n",
    "    \"C:/Users/Admin/Desktop/AIML Project/Classifying images/trash60.jpg\"\n",
    "]\n",
    "for img_path in new_image:\n",
    "    category = classify(img_path)\n",
    "    print(f\"Image: {img_path}, Category: {category}\")"
   ]
  },
  {
   "cell_type": "code",
   "execution_count": null,
   "metadata": {},
   "outputs": [],
   "source": []
  }
 ],
 "metadata": {
  "kernelspec": {
   "display_name": "Python 3",
   "language": "python",
   "name": "python3"
  },
  "language_info": {
   "codemirror_mode": {
    "name": "ipython",
    "version": 3
   },
   "file_extension": ".py",
   "mimetype": "text/x-python",
   "name": "python",
   "nbconvert_exporter": "python",
   "pygments_lexer": "ipython3",
   "version": "3.10.11"
  }
 },
 "nbformat": 4,
 "nbformat_minor": 2
}
